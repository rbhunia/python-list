{
 "cells": [
  {
   "cell_type": "code",
   "id": "initial_id",
   "metadata": {
    "collapsed": true,
    "ExecuteTime": {
     "end_time": "2024-12-15T11:43:52.233977Z",
     "start_time": "2024-12-15T11:43:52.223065Z"
    }
   },
   "source": [
    "l = [10, 20, 30, 40, 50]\n",
    "l"
   ],
   "outputs": [
    {
     "data": {
      "text/plain": [
       "[10, 20, 30, 40, 50]"
      ]
     },
     "execution_count": 2,
     "metadata": {},
     "output_type": "execute_result"
    }
   ],
   "execution_count": 2
  },
  {
   "metadata": {
    "ExecuteTime": {
     "end_time": "2024-12-15T11:44:07.489170Z",
     "start_time": "2024-12-15T11:44:07.477442Z"
    }
   },
   "cell_type": "code",
   "source": "type(l)",
   "id": "93f26636ba9bbbfc",
   "outputs": [
    {
     "data": {
      "text/plain": [
       "list"
      ]
     },
     "execution_count": 3,
     "metadata": {},
     "output_type": "execute_result"
    }
   ],
   "execution_count": 3
  },
  {
   "metadata": {
    "ExecuteTime": {
     "end_time": "2024-12-15T11:44:42.246811Z",
     "start_time": "2024-12-15T11:44:42.236080Z"
    }
   },
   "cell_type": "code",
   "source": "l[0]",
   "id": "1eb6a17d396fac86",
   "outputs": [
    {
     "data": {
      "text/plain": [
       "10"
      ]
     },
     "execution_count": 4,
     "metadata": {},
     "output_type": "execute_result"
    }
   ],
   "execution_count": 4
  },
  {
   "metadata": {
    "ExecuteTime": {
     "end_time": "2024-12-15T11:44:51.772249Z",
     "start_time": "2024-12-15T11:44:51.758472Z"
    }
   },
   "cell_type": "code",
   "source": "l[1]",
   "id": "d45656c98cdacef2",
   "outputs": [
    {
     "data": {
      "text/plain": [
       "20"
      ]
     },
     "execution_count": 5,
     "metadata": {},
     "output_type": "execute_result"
    }
   ],
   "execution_count": 5
  },
  {
   "metadata": {
    "ExecuteTime": {
     "end_time": "2024-12-15T11:45:16.430458Z",
     "start_time": "2024-12-15T11:45:16.419636Z"
    }
   },
   "cell_type": "code",
   "source": "len(l)",
   "id": "62bc6734051e9bb6",
   "outputs": [
    {
     "data": {
      "text/plain": [
       "5"
      ]
     },
     "execution_count": 6,
     "metadata": {},
     "output_type": "execute_result"
    }
   ],
   "execution_count": 6
  },
  {
   "metadata": {
    "ExecuteTime": {
     "end_time": "2024-12-15T11:45:27.055779Z",
     "start_time": "2024-12-15T11:45:26.931895Z"
    }
   },
   "cell_type": "code",
   "source": "l[5]",
   "id": "1ae8cdd990d7ecec",
   "outputs": [
    {
     "ename": "IndexError",
     "evalue": "list index out of range",
     "output_type": "error",
     "traceback": [
      "\u001B[0;31m---------------------------------------------------------------------------\u001B[0m",
      "\u001B[0;31mIndexError\u001B[0m                                Traceback (most recent call last)",
      "Cell \u001B[0;32mIn[7], line 1\u001B[0m\n\u001B[0;32m----> 1\u001B[0m \u001B[43ml\u001B[49m\u001B[43m[\u001B[49m\u001B[38;5;241;43m5\u001B[39;49m\u001B[43m]\u001B[49m\n",
      "\u001B[0;31mIndexError\u001B[0m: list index out of range"
     ]
    }
   ],
   "execution_count": 7
  },
  {
   "metadata": {
    "ExecuteTime": {
     "end_time": "2024-12-15T11:45:45.759859Z",
     "start_time": "2024-12-15T11:45:45.748139Z"
    }
   },
   "cell_type": "code",
   "source": "l[-1]",
   "id": "9255611919d5065a",
   "outputs": [
    {
     "data": {
      "text/plain": [
       "50"
      ]
     },
     "execution_count": 8,
     "metadata": {},
     "output_type": "execute_result"
    }
   ],
   "execution_count": 8
  },
  {
   "metadata": {
    "ExecuteTime": {
     "end_time": "2024-12-15T11:45:54.059129Z",
     "start_time": "2024-12-15T11:45:54.045223Z"
    }
   },
   "cell_type": "code",
   "source": "l[-2]",
   "id": "6cf00b633a2d892c",
   "outputs": [
    {
     "data": {
      "text/plain": [
       "40"
      ]
     },
     "execution_count": 9,
     "metadata": {},
     "output_type": "execute_result"
    }
   ],
   "execution_count": 9
  },
  {
   "metadata": {
    "ExecuteTime": {
     "end_time": "2024-12-15T11:46:28.364524Z",
     "start_time": "2024-12-15T11:46:28.331723Z"
    }
   },
   "cell_type": "code",
   "source": "l[len(l) - 1]",
   "id": "590608dba29eb5f6",
   "outputs": [
    {
     "data": {
      "text/plain": [
       "50"
      ]
     },
     "execution_count": 10,
     "metadata": {},
     "output_type": "execute_result"
    }
   ],
   "execution_count": 10
  },
  {
   "metadata": {
    "ExecuteTime": {
     "end_time": "2024-12-15T11:46:59.970321Z",
     "start_time": "2024-12-15T11:46:59.956883Z"
    }
   },
   "cell_type": "code",
   "source": [
    "l = []\n",
    "l"
   ],
   "id": "166f7614d7cd9d5",
   "outputs": [
    {
     "data": {
      "text/plain": [
       "[]"
      ]
     },
     "execution_count": 11,
     "metadata": {},
     "output_type": "execute_result"
    }
   ],
   "execution_count": 11
  },
  {
   "metadata": {
    "ExecuteTime": {
     "end_time": "2024-12-15T11:47:07.205997Z",
     "start_time": "2024-12-15T11:47:07.197034Z"
    }
   },
   "cell_type": "code",
   "source": "type(l)",
   "id": "ca665a79a0e7539c",
   "outputs": [
    {
     "data": {
      "text/plain": [
       "list"
      ]
     },
     "execution_count": 12,
     "metadata": {},
     "output_type": "execute_result"
    }
   ],
   "execution_count": 12
  },
  {
   "metadata": {
    "ExecuteTime": {
     "end_time": "2024-12-15T11:50:15.705973Z",
     "start_time": "2024-12-15T11:50:15.695206Z"
    }
   },
   "cell_type": "code",
   "source": "l = [10, 20, 30, 40, 50]\n",
   "id": "a3e5523fb4623a69",
   "outputs": [],
   "execution_count": 14
  },
  {
   "metadata": {
    "ExecuteTime": {
     "end_time": "2024-12-15T11:50:17.641345Z",
     "start_time": "2024-12-15T11:50:17.634632Z"
    }
   },
   "cell_type": "code",
   "source": [
    "l[-1] = \"Hello\"\n",
    "l"
   ],
   "id": "a39dd144db4fd799",
   "outputs": [
    {
     "data": {
      "text/plain": [
       "[10, 20, 30, 40, 'Hello']"
      ]
     },
     "execution_count": 15,
     "metadata": {},
     "output_type": "execute_result"
    }
   ],
   "execution_count": 15
  },
  {
   "metadata": {
    "ExecuteTime": {
     "end_time": "2024-12-15T11:50:47.518296Z",
     "start_time": "2024-12-15T11:50:47.491018Z"
    }
   },
   "cell_type": "code",
   "source": "l[5] = \"World\"",
   "id": "9924077572197d29",
   "outputs": [
    {
     "ename": "IndexError",
     "evalue": "list assignment index out of range",
     "output_type": "error",
     "traceback": [
      "\u001B[0;31m---------------------------------------------------------------------------\u001B[0m",
      "\u001B[0;31mIndexError\u001B[0m                                Traceback (most recent call last)",
      "Cell \u001B[0;32mIn[16], line 1\u001B[0m\n\u001B[0;32m----> 1\u001B[0m \u001B[43ml\u001B[49m\u001B[43m[\u001B[49m\u001B[38;5;241;43m5\u001B[39;49m\u001B[43m]\u001B[49m \u001B[38;5;241m=\u001B[39m \u001B[38;5;124m\"\u001B[39m\u001B[38;5;124mWorld\u001B[39m\u001B[38;5;124m\"\u001B[39m\n",
      "\u001B[0;31mIndexError\u001B[0m: list assignment index out of range"
     ]
    }
   ],
   "execution_count": 16
  },
  {
   "metadata": {},
   "cell_type": "code",
   "outputs": [],
   "execution_count": null,
   "source": "",
   "id": "a5558603addedd2a"
  }
 ],
 "metadata": {
  "kernelspec": {
   "display_name": "Python 3",
   "language": "python",
   "name": "python3"
  },
  "language_info": {
   "codemirror_mode": {
    "name": "ipython",
    "version": 2
   },
   "file_extension": ".py",
   "mimetype": "text/x-python",
   "name": "python",
   "nbconvert_exporter": "python",
   "pygments_lexer": "ipython2",
   "version": "2.7.6"
  }
 },
 "nbformat": 4,
 "nbformat_minor": 5
}
