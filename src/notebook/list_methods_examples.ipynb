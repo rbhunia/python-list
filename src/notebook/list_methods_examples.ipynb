{
 "cells": [
  {
   "metadata": {},
   "cell_type": "markdown",
   "source": "# Advanced List Manipulation Techniques in Python",
   "id": "4ff99628021299f9"
  },
  {
   "metadata": {},
   "cell_type": "code",
   "outputs": [],
   "execution_count": null,
   "source": [
    "## List Rotation\n",
    "my_list = [1, 2, 3, 4, 5]\n",
    "n = 2  # Number of places to rotate\n",
    "rotated = my_list[n:] + my_list[:n]\n",
    "print(rotated)  # Output: [3, 4, 5, 1, 2]"
   ],
   "id": "b8819c47931b8ad3"
  },
  {
   "metadata": {},
   "cell_type": "code",
   "outputs": [],
   "execution_count": null,
   "source": [
    "## Finding the Index of an Element\n",
    "my_list = [1, 2, 3, 4, 5]\n",
    "index_of_3 = my_list.index(3)\n",
    "print(index_of_3)  # Output: 2"
   ],
   "id": "449b35157cb99d40"
  },
  {
   "metadata": {},
   "cell_type": "code",
   "outputs": [],
   "execution_count": null,
   "source": [
    "## Removing an Element by Index\n",
    "my_list = [1, 2, 3, 4, 5]\n",
    "del my_list[2]\n",
    "print(my_list)  # Output: [1, 2, 4, 5]\n",
    "\n",
    "my_list = [1, 2, 3, 4, 5]\n",
    "popped_element = my_list.pop(2)\n",
    "print(popped_element)  # Output: 3\n",
    "print(my_list)  # Output: [1, 2, 4, 5]"
   ],
   "id": "98517ff4b3b99558"
  },
  {
   "metadata": {},
   "cell_type": "code",
   "outputs": [],
   "execution_count": null,
   "source": [
    "## Removing an Element by Value\n",
    "my_list = [1, 2, 3, 4, 3, 5]\n",
    "my_list.remove(3)\n",
    "print(my_list)  # Output: [1, 2, 4, 3, 5]"
   ],
   "id": "2367f9a270d47bf"
  },
  {
   "metadata": {},
   "cell_type": "code",
   "outputs": [],
   "execution_count": null,
   "source": [
    "## List Replication\n",
    "my_list = [1, 2, 3]\n",
    "replicated = my_list * 3\n",
    "print(replicated)  # Output: [1, 2, 3, 1, 2, 3, 1, 2, 3]"
   ],
   "id": "f289298c99bfdbd2"
  },
  {
   "metadata": {},
   "cell_type": "code",
   "outputs": [],
   "execution_count": null,
   "source": [
    "## Counting Occurrences of an Element\n",
    "my_list = [1, 2, 3, 1, 2, 1]\n",
    "count_1s = my_list.count(1)\n",
    "print(count_1s)  # Output: 3"
   ],
   "id": "837a7eebca865bd5"
  },
  {
   "metadata": {},
   "cell_type": "code",
   "outputs": [],
   "execution_count": null,
   "source": [
    "## Extending a List\n",
    "my_list = [1, 2, 3]\n",
    "my_list.extend([4, 5])\n",
    "print(my_list)  # Output: [1, 2, 3, 4, 5]"
   ],
   "id": "ba9f6ad82e166a99"
  },
  {
   "metadata": {},
   "cell_type": "code",
   "outputs": [],
   "execution_count": null,
   "source": [
    "## Clearing a List\n",
    "my_list = [1, 2, 3, 4, 5]\n",
    "my_list.clear()\n",
    "print(my_list)  # Output: []"
   ],
   "id": "59785d87d1cc1c4d"
  },
  {
   "metadata": {},
   "cell_type": "code",
   "outputs": [],
   "execution_count": null,
   "source": [
    "## Reversing a List in Place\n",
    "my_list = [1, 2, 3, 4, 5]\n",
    "my_list.reverse()\n",
    "print(my_list)  # Output: [5, 4, 3, 2, 1]"
   ],
   "id": "f4230ccd27cb3d7f"
  },
  {
   "metadata": {},
   "cell_type": "code",
   "outputs": [],
   "execution_count": null,
   "source": [
    "## Slicing with Negative Indices\n",
    "my_list = [1, 2, 3, 4, 5]\n",
    "last_two = my_list[-2:]\n",
    "print(last_two)  # Output: [4, 5]"
   ],
   "id": "85d8fb1b7dd88f06"
  },
  {
   "metadata": {},
   "cell_type": "code",
   "outputs": [],
   "execution_count": null,
   "source": [
    "## List Flattening with Nested Loops\n",
    "nested_list = [[1, 2], [3, 4], [5]]\n",
    "flattened = []\n",
    "for sublist in nested_list:\n",
    "    for item in sublist:\n",
    "        flattened.append(item)\n",
    "print(flattened)  # Output: [1, 2, 3, 4, 5]"
   ],
   "id": "d931210395f2a2ea"
  },
  {
   "metadata": {},
   "cell_type": "code",
   "outputs": [],
   "execution_count": null,
   "source": [
    "## List Chunks\n",
    "my_list = [1, 2, 3, 4, 5, 6, 7, 8]\n",
    "chunk_size = 3\n",
    "chunks = [my_list[i:i + chunk_size] for i in range(0, len(my_list), chunk_size)]\n",
    "print(chunks)  # Output: [[1, 2, 3], [4, 5, 6], [7, 8]]"
   ],
   "id": "770c4f1bd17733ac"
  },
  {
   "metadata": {},
   "cell_type": "code",
   "outputs": [],
   "execution_count": null,
   "source": [
    "## Finding the Maximum or Minimum Value\n",
    "my_list = [1, 2, 3, 4, 5]\n",
    "max_value = my_list[0]\n",
    "min_value = my_list[0]\n",
    "for num in my_list:\n",
    "    if num > max_value:\n",
    "        max_value = num\n",
    "    if num < min_value:\n",
    "        min_value = num\n",
    "print(max_value)  # Output: 5\n",
    "print(min_value)  # Output: 1"
   ],
   "id": "16c676f2dbec3143"
  },
  {
   "metadata": {},
   "cell_type": "code",
   "outputs": [],
   "execution_count": null,
   "source": [
    "## Removing Duplicates from a List (Maintaining Order)\n",
    "my_list = [1, 2, 2, 3, 1, 4, 4, 5]\n",
    "seen = set()\n",
    "unique_list = []\n",
    "for item in my_list:\n",
    "    if item not in seen:\n",
    "        unique_list.append(item)\n",
    "        seen.add(item)\n",
    "print(unique_list)  # Output: [1, 2, 3, 4, 5]"
   ],
   "id": "7b16685f0adfdd1a"
  },
  {
   "metadata": {},
   "cell_type": "code",
   "outputs": [],
   "execution_count": null,
   "source": [
    "## Nested List Comprehensions\n",
    "rows, cols = 3, 3\n",
    "matrix = [[row * col for col in range(cols)] for row in range(rows)]\n",
    "print(matrix)  # Output: [[0, 0, 0], [0, 1, 2], [0, 2, 4]]"
   ],
   "id": "5772846a9e5c8631"
  },
  {
   "metadata": {},
   "cell_type": "code",
   "outputs": [],
   "execution_count": null,
   "source": [
    "## Finding Common Elements\n",
    "list1 = [1, 2, 3, 4]\n",
    "list2 = [3, 4, 5, 6]\n",
    "common = [x for x in list1 if x in list2]\n",
    "print(common)  # Output: [3, 4]"
   ],
   "id": "caaa81e385249e29"
  },
  {
   "metadata": {},
   "cell_type": "code",
   "outputs": [],
   "execution_count": null,
   "source": [
    "## List Symmetric Difference\n",
    "list1 = [1, 2, 3, 4]\n",
    "list2 = [3, 4, 5, 6]\n",
    "symmetric_diff = [x"
   ],
   "id": "99e9ca325859322d"
  }
 ],
 "metadata": {
  "kernelspec": {
   "display_name": "Python 3",
   "language": "python",
   "name": "python3"
  },
  "language_info": {
   "codemirror_mode": {
    "name": "ipython",
    "version": 2
   },
   "file_extension": ".py",
   "mimetype": "text/x-python",
   "name": "python",
   "nbconvert_exporter": "python",
   "pygments_lexer": "ipython2",
   "version": "2.7.6"
  }
 },
 "nbformat": 4,
 "nbformat_minor": 5
}
