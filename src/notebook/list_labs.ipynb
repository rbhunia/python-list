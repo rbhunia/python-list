{
 "cells": [
  {
   "cell_type": "code",
   "execution_count": 18,
   "id": "initial_id",
   "metadata": {
    "ExecuteTime": {
     "end_time": "2024-11-30T18:52:03.668306Z",
     "start_time": "2024-11-30T18:52:03.661085Z"
    },
    "collapsed": true
   },
   "outputs": [
    {
     "name": "stdout",
     "output_type": "stream",
     "text": [
      "[]\n"
     ]
    }
   ],
   "source": [
    "from calendar import weekday\n",
    "\n",
    "empty_list = []\n",
    "print(empty_list)"
   ]
  },
  {
   "cell_type": "code",
   "execution_count": 19,
   "id": "3d1fdbac4e1a3168",
   "metadata": {
    "ExecuteTime": {
     "end_time": "2024-11-30T18:52:03.759333Z",
     "start_time": "2024-11-30T18:52:03.747668Z"
    }
   },
   "outputs": [
    {
     "name": "stdout",
     "output_type": "stream",
     "text": [
      "['Monday', 'Tuesday', 'Wednesday', 'Thursday', 'Friday']\n"
     ]
    }
   ],
   "source": [
    "weekday = [\"Monday\", \"Tuesday\", \"Wednesday\", \"Thursday\", \"Friday\"]\n",
    "print(weekday)"
   ]
  },
  {
   "cell_type": "code",
   "execution_count": 20,
   "id": "ddaf0aaec4f50d2a",
   "metadata": {
    "ExecuteTime": {
     "end_time": "2024-11-30T18:52:03.898022Z",
     "start_time": "2024-11-30T18:52:03.893975Z"
    }
   },
   "outputs": [
    {
     "name": "stdout",
     "output_type": "stream",
     "text": [
      "[]\n"
     ]
    }
   ],
   "source": [
    "another_empty_list = list()\n",
    "print(another_empty_list)"
   ]
  },
  {
   "cell_type": "code",
   "execution_count": 21,
   "id": "974dae28d258a488",
   "metadata": {
    "ExecuteTime": {
     "end_time": "2024-11-30T18:52:03.930821Z",
     "start_time": "2024-11-30T18:52:03.928277Z"
    }
   },
   "outputs": [
    {
     "name": "stdout",
     "output_type": "stream",
     "text": [
      "['c', 'a', 't']\n"
     ]
    }
   ],
   "source": [
    "cat = list(\"cat\")\n",
    "print(cat)"
   ]
  },
  {
   "cell_type": "code",
   "execution_count": 22,
   "id": "53a081b87cb53dc0",
   "metadata": {
    "ExecuteTime": {
     "end_time": "2024-11-30T18:52:04.005336Z",
     "start_time": "2024-11-30T18:52:04.002684Z"
    }
   },
   "outputs": [
    {
     "name": "stdout",
     "output_type": "stream",
     "text": [
      "[1, 2, 3, 4, 5]\n"
     ]
    }
   ],
   "source": [
    "a_tuple = (1,2,3,4,5)\n",
    "print(list(a_tuple))"
   ]
  },
  {
   "cell_type": "code",
   "execution_count": 23,
   "id": "335a2500fdd319ce",
   "metadata": {
    "ExecuteTime": {
     "end_time": "2024-11-30T18:52:04.046999Z",
     "start_time": "2024-11-30T18:52:04.044189Z"
    }
   },
   "outputs": [
    {
     "name": "stdout",
     "output_type": "stream",
     "text": [
      "['26', '11', '2024']\n"
     ]
    }
   ],
   "source": [
    "today = \"26/11/2024\"\n",
    "print(today.split(\"/\"))"
   ]
  },
  {
   "cell_type": "code",
   "execution_count": 24,
   "id": "fbf4c0d05bd14873",
   "metadata": {
    "ExecuteTime": {
     "end_time": "2024-11-30T18:52:04.095556Z",
     "start_time": "2024-11-30T18:52:04.090996Z"
    }
   },
   "outputs": [
    {
     "data": {
      "text/plain": [
       "'Groucho'"
      ]
     },
     "execution_count": 24,
     "metadata": {},
     "output_type": "execute_result"
    }
   ],
   "source": [
    "marxes = [\"Groucho\",\"Chico\", \"Harpo\"]\n",
    "marxes[0]"
   ]
  },
  {
   "cell_type": "code",
   "execution_count": 25,
   "id": "e120c37cc7aa3bbd",
   "metadata": {
    "ExecuteTime": {
     "end_time": "2024-11-30T18:52:04.161162Z",
     "start_time": "2024-11-30T18:52:04.157833Z"
    }
   },
   "outputs": [
    {
     "data": {
      "text/plain": [
       "'Chico'"
      ]
     },
     "execution_count": 25,
     "metadata": {},
     "output_type": "execute_result"
    }
   ],
   "source": [
    "marxes[1]"
   ]
  },
  {
   "cell_type": "code",
   "execution_count": 26,
   "id": "d5e12228",
   "metadata": {
    "ExecuteTime": {
     "end_time": "2024-11-30T18:52:04.201998Z",
     "start_time": "2024-11-30T18:52:04.199422Z"
    }
   },
   "outputs": [
    {
     "name": "stdout",
     "output_type": "stream",
     "text": [
      "(1, 2, (3, 4), [8, 9, 10])\n"
     ]
    }
   ],
   "source": [
    "my_tuple = (1,2, (3,4), [8,9])\n",
    "my_tuple[3].append(10)\n",
    "print(my_tuple)"
   ]
  },
  {
   "cell_type": "code",
   "execution_count": 27,
   "id": "be29f5aa5875e70f",
   "metadata": {
    "ExecuteTime": {
     "end_time": "2024-11-30T18:52:04.243439Z",
     "start_time": "2024-11-30T18:52:04.240642Z"
    }
   },
   "outputs": [
    {
     "name": "stdout",
     "output_type": "stream",
     "text": [
      "('p', 'y', 't', 'h', 'o', 'n')\n"
     ]
    }
   ],
   "source": [
    "s = \"python\"\n",
    "t = tuple(s)\n",
    "print(t)"
   ]
  },
  {
   "cell_type": "code",
   "execution_count": 28,
   "id": "866a1d6592f4d441",
   "metadata": {
    "ExecuteTime": {
     "end_time": "2024-11-30T18:52:04.284251Z",
     "start_time": "2024-11-30T18:52:04.280807Z"
    }
   },
   "outputs": [
    {
     "data": {
      "text/plain": [
       "(tuple, 6)"
      ]
     },
     "execution_count": 28,
     "metadata": {},
     "output_type": "execute_result"
    }
   ],
   "source": [
    "type(t), len(t)"
   ]
  },
  {
   "cell_type": "code",
   "execution_count": 29,
   "id": "e4df8a8dd690aeb1",
   "metadata": {
    "ExecuteTime": {
     "end_time": "2024-11-30T18:52:04.328200Z",
     "start_time": "2024-11-30T18:52:04.324724Z"
    }
   },
   "outputs": [
    {
     "name": "stdout",
     "output_type": "stream",
     "text": [
      "['a', 'b', 'c', 'd', 'e', 'f']\n"
     ]
    }
   ],
   "source": [
    "l = list(\"abcdef\")\n",
    "print(l)"
   ]
  },
  {
   "cell_type": "code",
   "execution_count": 30,
   "id": "dc69218e7b58cad4",
   "metadata": {
    "ExecuteTime": {
     "end_time": "2024-11-30T18:52:04.379378Z",
     "start_time": "2024-11-30T18:52:04.376141Z"
    }
   },
   "outputs": [
    {
     "name": "stdout",
     "output_type": "stream",
     "text": [
      "['a', 'b', 'c', 'd', 'e', 'f']\n"
     ]
    }
   ],
   "source": [
    "characters_list = list(\"abcdef\")\n",
    "print(characters_list)"
   ]
  },
  {
   "cell_type": "code",
   "execution_count": 31,
   "id": "43f4242aace20b85",
   "metadata": {
    "ExecuteTime": {
     "end_time": "2024-11-30T18:52:04.425581Z",
     "start_time": "2024-11-30T18:52:04.421893Z"
    }
   },
   "outputs": [
    {
     "name": "stdout",
     "output_type": "stream",
     "text": [
      "['a']\n"
     ]
    }
   ],
   "source": [
    "# Check other parts of your code to ensure `list` is not redefined.\n",
    "characters_list = list(\"a\")\n",
    "print(characters_list)\n"
   ]
  },
  {
   "cell_type": "code",
   "execution_count": 32,
   "id": "4709fc03",
   "metadata": {
    "ExecuteTime": {
     "end_time": "2024-11-30T18:52:04.617166Z",
     "start_time": "2024-11-30T18:52:04.467018Z"
    }
   },
   "outputs": [
    {
     "ename": "EmptyError",
     "evalue": "Error: list_c is empty.",
     "output_type": "error",
     "traceback": [
      "\u001b[0;31m---------------------------------------------------------------------------\u001b[0m",
      "\u001b[0;31mEmptyError\u001b[0m                                Traceback (most recent call last)",
      "Cell \u001b[0;32mIn[32], line 6\u001b[0m\n\u001b[1;32m      4\u001b[0m list_c \u001b[38;5;241m=\u001b[39m []\n\u001b[1;32m      5\u001b[0m \u001b[38;5;28;01mif\u001b[39;00m \u001b[38;5;129;01mnot\u001b[39;00m list_c:\n\u001b[0;32m----> 6\u001b[0m     \u001b[38;5;28;01mraise\u001b[39;00m EmptyError(\u001b[38;5;124m\"\u001b[39m\u001b[38;5;124mError: list_c is empty.\u001b[39m\u001b[38;5;124m\"\u001b[39m)\n",
      "\u001b[0;31mEmptyError\u001b[0m: Error: list_c is empty."
     ]
    }
   ],
   "source": [
    "class EmptyError(Exception):\n",
    "    pass\n",
    "\n",
    "list_c = []\n",
    "if not list_c:\n",
    "    raise EmptyError(\"Error: list_c is empty.\")\n"
   ]
  },
  {
   "cell_type": "code",
   "execution_count": null,
   "id": "6b67a468",
   "metadata": {},
   "outputs": [
    {
     "name": "stdout",
     "output_type": "stream",
     "text": [
      "Caught : Thrown empty error.\n"
     ]
    }
   ],
   "source": [
    "try:\n",
    "    raise EmptyError(\"Thrown empty error.\")\n",
    "except EmptyError as e:\n",
    "    print(f\"Caught : {e}\")"
   ]
  },
  {
   "cell_type": "code",
   "execution_count": null,
   "id": "45e54cd9",
   "metadata": {},
   "outputs": [
    {
     "name": "stdout",
     "output_type": "stream",
     "text": [
      "Rating : 4\n",
      "Error: Invalid max_rating\n"
     ]
    }
   ],
   "source": [
    "class RatingError(Exception):\n",
    "    pass\n",
    "\n",
    "class Rating:\n",
    "    def __init__(self, max_rating):\n",
    "        if not max_rating > 0:\n",
    "            raise RatingError(\"max_rating should be greater than zero.\")\n",
    "        self.max_rating = max_rating\n",
    "        self.ratings = []\n",
    "\n",
    "    def rate(self, rating):\n",
    "        if not (0< rating <= self.max_rating):\n",
    "            raise RatingError(\"Invalid max_rating\")\n",
    "        self.ratings.append(rating)\n",
    "\n",
    "    def get_all_ratings(self):\n",
    "        for rating in self.ratings:\n",
    "            print(f\"Rating : {rating}\")\n",
    "\n",
    "try:\n",
    "    rating = Rating(5)\n",
    "    rating.rate(4)\n",
    "    rating.get_all_ratings()\n",
    "    rating.rate(7)\n",
    "except RatingError as e:\n",
    "    print(f\"Error: {e}\")"
   ]
  },
  {
   "cell_type": "code",
   "execution_count": null,
   "id": "eea5741a",
   "metadata": {
    "ExecuteTime": {
     "end_time": "2024-11-30T18:52:14.447115Z",
     "start_time": "2024-11-30T18:52:14.441205Z"
    }
   },
   "outputs": [
    {
     "name": "stdout",
     "output_type": "stream",
     "text": [
      "***** Opening file *****\n",
      "**** Reading file data *****\n",
      "**** Cleanup resource *****\n",
      "Data : \n"
     ]
    }
   ],
   "source": [
    "def try_finallY_example(file_name):\n",
    "    print(\"***** Opening file *****\")\n",
    "    handle = open(file_name, encoding=\"utf-8\")\n",
    "    try:\n",
    "        print(\"**** Reading file data *****\")\n",
    "        return handle.read()\n",
    "    finally:\n",
    "        print(\"**** Cleanup resource *****\")\n",
    "        handle.close()\n",
    "\n",
    "\n",
    "\n",
    "filename = \"file.txt\"\n",
    "\n",
    "with open(filename, \"wb\") as f:\n",
    "    f.write(b\"\\xf1\\xf2\\xf3\\xf4\\xf5\")\n",
    "    data = try_finallY_example(filename)\n",
    "    print(f\"Data : {data}\")"
   ]
  },
  {
   "cell_type": "code",
   "execution_count": null,
   "id": "68bad521",
   "metadata": {},
   "outputs": [
    {
     "name": "stdout",
     "output_type": "stream",
     "text": [
      "['False', 'None', 'True', 'and', 'as', 'assert', 'async', 'await', 'break', 'class', 'continue', 'def', 'del', 'elif', 'else', 'except', 'finally', 'for', 'from', 'global', 'if', 'import', 'in', 'is', 'lambda', 'nonlocal', 'not', 'or', 'pass', 'raise', 'return', 'try', 'while', 'with', 'yield']\n",
      "Total number of keywords 35\n"
     ]
    }
   ],
   "source": [
    "import keyword as kwd\n",
    "\n",
    "print(kwd.kwlist)\n",
    "print(f'Total number of keywords {len(kwd.kwlist)}')"
   ]
  },
  {
   "cell_type": "code",
   "execution_count": null,
   "id": "b8ce3c6b",
   "metadata": {},
   "outputs": [
    {
     "name": "stdout",
     "output_type": "stream",
     "text": [
      "Product is 12000000\n"
     ]
    }
   ],
   "source": [
    "lst = [10, 20, 30 ,40,50]\n",
    "\n",
    "product = 1\n",
    "index = 0\n",
    "\n",
    "while index < len(lst):\n",
    "    product = product * lst[index]\n",
    "    index+=1\n",
    "\n",
    "print(f\"Product is {product}\")"
   ]
  },
  {
   "cell_type": "code",
   "execution_count": null,
   "id": "ab13a6c7",
   "metadata": {},
   "outputs": [
    {
     "name": "stdout",
     "output_type": "stream",
     "text": [
      "1\n",
      "2\n",
      "3\n",
      "No items left in the list\n"
     ]
    }
   ],
   "source": [
    "# While loop with else \n",
    "numbers = [1,2,3]\n",
    "index = 0\n",
    "while index < len(numbers):\n",
    "    print(numbers[index])\n",
    "    index+=1\n",
    "else:\n",
    "    print(\"No items left in the list\")"
   ]
  },
  {
   "cell_type": "code",
   "execution_count": null,
   "id": "2e22647b",
   "metadata": {},
   "outputs": [
    {
     "name": "stdout",
     "output_type": "stream",
     "text": [
      "True\n"
     ]
    }
   ],
   "source": [
    "import math\n",
    "\n",
    "def is_prime(n):\n",
    "    if n < 2:\n",
    "        return False\n",
    "    if n in (2, 3):\n",
    "        return True\n",
    "    if n % 2 == 0 or n % 3 == 0:\n",
    "        return False\n",
    "    for i in range(5, int(math.sqrt(n)) + 1, 6):\n",
    "        if n % i == 0 or n % (i + 2) == 0:\n",
    "            return False\n",
    "    return True\n",
    "\n",
    "# Example usage:\n",
    "num = 104729  # A known prime number\n",
    "print(is_prime(num))  # Output: True"
   ]
  },
  {
   "cell_type": "code",
   "execution_count": 33,
   "id": "6f4b3491",
   "metadata": {},
   "outputs": [
    {
     "name": "stdout",
     "output_type": "stream",
     "text": [
      "True\n"
     ]
    }
   ],
   "source": [
    "import math\n",
    "\n",
    "def is_prime(n):\n",
    "    if(n <= 1):\n",
    "        return False\n",
    "    if n <= 3:\n",
    "        return True\n",
    "    if(n %2 == 0 or n % 3 == 0):\n",
    "        return False\n",
    "    for i in range(5, int(math.sqrt(n)+ 1), 6):\n",
    "        if(n%i == 0 or n%i+2 ==0):\n",
    "            return False\n",
    "    return True\n",
    "num = 104729  # A known prime number\n",
    "print(is_prime(num))  # Output: True"
   ]
  },
  {
   "cell_type": "code",
   "execution_count": 34,
   "id": "80029873",
   "metadata": {},
   "outputs": [
    {
     "name": "stdout",
     "output_type": "stream",
     "text": [
      "Product is 12000000\n",
      "1\n",
      "2\n",
      "3\n",
      "No items left in the list\n"
     ]
    }
   ],
   "source": [
    "lst = [10, 20, 30 ,40,50]\n",
    "product = 1\n",
    "\n",
    "for i in lst:\n",
    "    product = product * i\n",
    "print(f\"Product is {product}\")\n",
    "\n",
    "# For loop with else\n",
    "numbers = [1,2,3]\n",
    "for number in numbers:\n",
    "    print(number)\n",
    "else:\n",
    "    print(\"No items left in the list\")"
   ]
  }
 ],
 "metadata": {
  "kernelspec": {
   "display_name": ".venv",
   "language": "python",
   "name": "python3"
  },
  "language_info": {
   "codemirror_mode": {
    "name": "ipython",
    "version": 3
   },
   "file_extension": ".py",
   "mimetype": "text/x-python",
   "name": "python",
   "nbconvert_exporter": "python",
   "pygments_lexer": "ipython3",
   "version": "3.12.0"
  }
 },
 "nbformat": 4,
 "nbformat_minor": 5
}
