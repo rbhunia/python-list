{
 "cells": [
  {
   "metadata": {},
   "cell_type": "markdown",
   "source": "# List Methods and Techniques in Python",
   "id": "312f8b1d2e762864"
  },
  {
   "metadata": {},
   "cell_type": "markdown",
   "source": "## List Rotation",
   "id": "84f9c450c9449c3"
  },
  {
   "metadata": {},
   "cell_type": "code",
   "outputs": [],
   "execution_count": null,
   "source": [
    "# Rotating elements in a list - move the first element to the end\n",
    "def rotate_list(lst):\n",
    "    return lst[1:] + [lst[0]]\n",
    "\n",
    "# Example\n",
    "original_list = [1, 2, 3, 4]\n",
    "rotated_list = rotate_list(original_list)\n",
    "print(rotated_list)  # Output: [2, 3, 4, 1]"
   ],
   "id": "2045fdef1168b5e8"
  },
  {
   "metadata": {},
   "cell_type": "markdown",
   "source": "## Finding the Index of an Element",
   "id": "303484f7fd8ed2e6"
  },
  {
   "metadata": {},
   "cell_type": "code",
   "outputs": [],
   "execution_count": null,
   "source": [
    "# Finding the index of the first occurrence of an element\n",
    "def find_index(lst, element):\n",
    "    return lst.index(element)\n",
    "\n",
    "# Example\n",
    "my_list = [10, 20, 30, 20, 10]\n",
    "index = find_index(my_list, 20)\n",
    "print(index)  # Output: 1"
   ],
   "id": "fd23e24efaefb5fd"
  },
  {
   "metadata": {},
   "cell_type": "markdown",
   "source": "## Removing an Element by Index",
   "id": "c616c634f0ecedb2"
  },
  {
   "metadata": {},
   "cell_type": "code",
   "outputs": [],
   "execution_count": null,
   "source": [
    "# Removing an element by its index using del\n",
    "def remove_by_index(lst, index):\n",
    "    del lst[index]\n",
    "\n",
    "# Example\n",
    "my_list = [10, 20, 30]\n",
    "remove_by_index(my_list, 1)\n",
    "print(my_list)  # Output: [10, 30]\n",
    "\n",
    "# Removing an element by its index using pop\n",
    "def remove_by_index_pop(lst, index):\n",
    "    return lst.pop(index)\n",
    "\n",
    "# Example\n",
    "my_list = [10, 20, 30]\n",
    "removed_element = remove_by_index_pop(my_list, 1)\n",
    "print(my_list)  # Output: [10, 30]\n",
    "print(removed_element)  # Output: 20"
   ],
   "id": "d147beca151f926a"
  },
  {
   "metadata": {},
   "cell_type": "markdown",
   "source": "## Removing an Element by Value",
   "id": "e75c853ddcb0943d"
  },
  {
   "metadata": {},
   "cell_type": "code",
   "outputs": [],
   "execution_count": null,
   "source": [
    "# Removing the first occurrence of an element by value\n",
    "def remove_by_value(lst, value):\n",
    "    lst.remove(value)\n",
    "\n",
    "# Example\n",
    "my_list = [10, 20, 30, 20]\n",
    "remove_by_value(my_list, 20)\n",
    "print(my_list)  # Output: [10, 30, 20]"
   ],
   "id": "56b68426adc7a0b6"
  },
  {
   "metadata": {},
   "cell_type": "markdown",
   "source": "## List Replication",
   "id": "aa445558e2464924"
  },
  {
   "metadata": {},
   "cell_type": "code",
   "outputs": [],
   "execution_count": null,
   "source": [
    "# Replicating a list multiple times\n",
    "def replicate_list(lst, times):\n",
    "    return lst * times\n",
    "\n",
    "# Example\n",
    "original_list = [1, 2, 3]\n",
    "replicated_list = replicate_list(original_list, 3)\n",
    "print(replicated_list)  # Output: [1, 2, 3, 1, 2, 3, 1, 2, 3]"
   ],
   "id": "2e67c42d2718709"
  },
  {
   "metadata": {},
   "cell_type": "markdown",
   "source": "## Counting Occurrences of an Element",
   "id": "22692d7f1968d574"
  },
  {
   "metadata": {},
   "cell_type": "code",
   "outputs": [],
   "execution_count": null,
   "source": [
    "# Counting how many times an element appears in a list\n",
    "def count_occurrences(lst, value):\n",
    "    return lst.count(value)\n",
    "\n",
    "# Example\n",
    "my_list = [1, 2, 2, 3, 3, 3]\n",
    "count = count_occurrences(my_list, 2)\n",
    "print(count)  # Output: 2"
   ],
   "id": "ca3c4773e7ac1f60"
  },
  {
   "metadata": {},
   "cell_type": "markdown",
   "source": "## Extending a List",
   "id": "15a5ecbcb60bb728"
  },
  {
   "metadata": {},
   "cell_type": "code",
   "outputs": [],
   "execution_count": null,
   "source": [
    "# Extending a list by appending elements from another list\n",
    "def extend_list(lst1, lst2):\n",
    "    lst1.extend(lst2)\n",
    "\n",
    "# Example\n",
    "list1 = [1, 2, 3]\n",
    "list2 = [4, 5, 6]\n",
    "extend_list(list1, list2)\n",
    "print(list1)  # Output: [1, 2, 3, 4, 5, 6]"
   ],
   "id": "4910d9f2f88759e2"
  },
  {
   "metadata": {},
   "cell_type": "markdown",
   "source": "## Clearing a List",
   "id": "c67060b5bd0b883f"
  },
  {
   "metadata": {},
   "cell_type": "code",
   "outputs": [],
   "execution_count": null,
   "source": [
    "# Removing all elements from the list\n",
    "def clear_list(lst):\n",
    "    lst.clear()\n",
    "\n",
    "# Example\n",
    "my_list = [1, 2, 3, 4]\n",
    "clear_list(my_list)\n",
    "print(my_list)  # Output: []"
   ],
   "id": "6592c3bd6b257168"
  },
  {
   "metadata": {},
   "cell_type": "markdown",
   "source": "## Reversing a List in Place",
   "id": "76ba059819088120"
  },
  {
   "metadata": {},
   "cell_type": "code",
   "outputs": [],
   "execution_count": null,
   "source": [
    "# Reversing the elements of a list in place\n",
    "def reverse_list(lst):\n",
    "    lst.reverse()\n",
    "\n",
    "# Example\n",
    "my_list = [1, 2, 3, 4]\n",
    "reverse_list(my_list)\n",
    "print(my_list)  # Output: [4, 3, 2, 1]"
   ],
   "id": "d84a783acebf7cfa"
  },
  {
   "metadata": {},
   "cell_type": "markdown",
   "source": "## Slicing with Negative Indices",
   "id": "40c2c99dc9f76699"
  },
  {
   "metadata": {},
   "cell_type": "code",
   "outputs": [],
   "execution_count": null,
   "source": [
    "# Using negative indices for slicing\n",
    "def slice_with_negative_indices(lst, start, end):\n",
    "    return lst[start:end]\n",
    "\n",
    "# Example\n",
    "my_list = [1, 2, 3, 4, 5]\n",
    "sliced_list = slice_with_negative_indices(my_list, -4, -1)\n",
    "print(sliced_list)  # Output: [2, 3, 4]"
   ],
   "id": "d6d8e39212d71620"
  },
  {
   "metadata": {},
   "cell_type": "markdown",
   "source": "## List Flattening with Nested Loops",
   "id": "a27e85d31e780e4e"
  },
  {
   "metadata": {},
   "cell_type": "code",
   "outputs": [],
   "execution_count": null,
   "source": [
    "# Flattening a list of lists without using any modules\n",
    "def flatten_list(lst):\n",
    "    flat_list = [item for sublist in lst for item in sublist]\n",
    "    return flat_list\n",
    "\n",
    "# Example\n",
    "nested_list = [[1, 2], [3, 4], [5]]\n",
    "flattened_list = flatten_list(nested_list)\n",
    "print(flattened_list)  # Output: [1, 2, 3, 4, 5]"
   ],
   "id": "e9837988b627b6c8"
  },
  {
   "metadata": {},
   "cell_type": "markdown",
   "source": "## List Chunks",
   "id": "d76317b880b0b58a"
  },
  {
   "metadata": {},
   "cell_type": "code",
   "outputs": [],
   "execution_count": null,
   "source": [
    "# Splitting a list into chunks of a specified size\n",
    "def chunk_list(lst, chunk_size):\n",
    "    return [lst[i:i + chunk_size] for i in range(0, len(lst), chunk_size)]\n",
    "\n",
    "# Example\n",
    "my_list = [1, 2, 3, 4, 5, 6, 7]\n",
    "chunked_list = chunk_list(my_list, 3)\n",
    "print(chunked_list)  # Output: [[1, 2, 3], [4, 5, 6], [7]]"
   ],
   "id": "12dbb437878316ec"
  },
  {
   "metadata": {},
   "cell_type": "markdown",
   "source": "## Finding the Maximum or Minimum Value",
   "id": "b6d3da50393112ac"
  },
  {
   "metadata": {},
   "cell_type": "code",
   "outputs": [],
   "execution_count": null,
   "source": [
    "# Finding the maximum value in a list without using max\n",
    "def find_max(lst):\n",
    "    max_value = lst[0]\n",
    "    for item in lst:\n",
    "        if item > max_value:\n",
    "            max_value = item\n",
    "    return max_value\n",
    "\n",
    "# Example\n",
    "my_list = [3, 1, 2, 5, 4]\n",
    "max_value = find_max(my_list)\n",
    "print(max_value)  # Output: 5\n",
    "\n",
    "# Finding the minimum value in a list without using min\n",
    "def find_min(lst):\n",
    "    min_value = lst[0]\n",
    "    for item in lst:\n",
    "        if item < min_value:\n",
    "            min_value = item\n",
    "    return min_value\n",
    "\n",
    "# Example\n",
    "min_value = find_min(my_list)\n",
    "print(min_value)  # Output: 1"
   ],
   "id": "e4e6daa56374e47e"
  },
  {
   "metadata": {},
   "cell_type": "markdown",
   "source": "## Removing Duplicates from a List (Maintaining Order)",
   "id": "4374a3f7294c279c"
  },
  {
   "metadata": {},
   "cell_type": "code",
   "outputs": [],
   "execution_count": null,
   "source": [
    "# Removing duplicates while maintaining the original order\n",
    "def remove_duplicates(lst):\n",
    "    seen = set()\n",
    "    result = []\n",
    "    for item in lst:\n",
    "        if item not in seen:\n",
    "            seen.add(item)\n",
    "            result.append(item)\n",
    "    return result\n",
    "\n",
    "# Example\n",
    "my_list = [1, 2, 2, 3, 4, 4, 5]\n",
    "unique_list = remove_duplicates(my_list)\n",
    "print(unique_list)  # Output: [1, 2, 3, 4, 5]"
   ],
   "id": "936009d1a3a71f91"
  },
  {
   "metadata": {},
   "cell_type": "markdown",
   "source": "## Nested List Comprehensions",
   "id": "2f94cbe9cac39a17"
  },
  {
   "metadata": {},
   "cell_type": "code",
   "outputs": [],
   "execution_count": null,
   "source": [
    "# Creating a matrix with list comprehensions\n",
    "def create_matrix(rows, cols):\n",
    "    return [[0 for _ in range(cols)] for _ in range(rows)]\n",
    "\n",
    "# Example\n",
    "matrix = create_matrix(3, 3)\n",
    "print(matrix)  # Output: [[0, 0, 0], [0, 0, 0], [0, 0, 0]]"
   ],
   "id": "89518f276f1acdb9"
  },
  {
   "metadata": {},
   "cell_type": "markdown",
   "source": "## Finding Common Elements",
   "id": "6fefa27599de7ea3"
  },
  {
   "metadata": {},
   "cell_type": "code",
   "outputs": [],
   "execution_count": null,
   "source": [
    "# Finding common elements between two lists\n",
    "def find_common_elements(lst1, lst2):\n",
    "    return [item for item in lst1 if item in lst2]\n",
    "\n",
    "# Example\n",
    "list1 = [1, 2, 3, 4]\n",
    "list2 = [3, 4, 5, 6]\n",
    "common_elements = find_common_elements(list1, list2)\n",
    "print(common_elements)  # Output: [3, 4]"
   ],
   "id": "4ad39434a57a0482"
  },
  {
   "metadata": {},
   "cell_type": "markdown",
   "source": "## List Symmetric Difference",
   "id": "d88e4f1e0ce83286"
  },
  {
   "metadata": {},
   "cell_type": "code",
   "outputs": [],
   "execution_count": null,
   "source": [
    "# Finding elements present in one list but not the other\n",
    "def symmetric_difference(lst1, lst2):\n",
    "    return [item for item in lst1 + lst2 if item not in lst1 or item not in lst2]\n",
    "\n",
    "# Example\n",
    "list1 = [1, 2, 3]\n",
    "list2 = [3, 4, 5]\n",
    "sym_diff = symmetric_difference(list1, list2)\n",
    "print(sym_diff)  # Output: [1, 2, 4, 5]"
   ],
   "id": "72b33ab94b501f70"
  },
  {
   "metadata": {},
   "cell_type": "markdown",
   "source": "## Cartesian Product without itertools",
   "id": "cd6f2968a8f9d011"
  },
  {
   "metadata": {},
   "cell_type": "code",
   "outputs": [],
   "execution_count": null,
   "source": [
    "# Generating Cartesian product manually\n",
    "def cartesian_product(lst1, lst2):\n",
    "    return [(item1, item2) for item1 in lst1 for item2 in lst2]\n",
    "\n",
    "# Example\n",
    "list1 = [1, 2]\n",
    "list2 = ['a', 'b']\n",
    "cart_product = cartesian_product(list1, list2)\n",
    "print(cart_product)  # Output: [(1, 'a'), (1, 'b'), (2, 'a'), (2, 'b')]"
   ],
   "id": "9c067c6d6db5e3d3"
  }
 ],
 "metadata": {
  "kernelspec": {
   "display_name": "Python 3",
   "language": "python",
   "name": "python3"
  },
  "language_info": {
   "codemirror_mode": {
    "name": "ipython",
    "version": 2
   },
   "file_extension": ".py",
   "mimetype": "text/x-python",
   "name": "python",
   "nbconvert_exporter": "python",
   "pygments_lexer": "ipython2",
   "version": "2.7.6"
  }
 },
 "nbformat": 4,
 "nbformat_minor": 5
}
